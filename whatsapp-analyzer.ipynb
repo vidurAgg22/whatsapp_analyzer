pip install pygal
import re  # For playing with text patterns
import datetime  # Handling dates and times
import numpy as np  # Rocking with numerical operations
import pandas as pd  # Crunching data with pandas
import matplotlib.pyplot as plt  # Plotting cool graphs
import seaborn as sns  # Making our plots even prettier
from wordcloud import WordCloud, STOPWORDS  # Generating awesome word clouds
import emoji  # Dealing with emojis 😃🎉
import itertools  # Mixing stuff up with iterators
from collections import Counter  # Counting stuff
import warnings  # Ignoring those pesky warnings
warnings.filterwarnings('ignore')  # Shh... quiet now!

# Magic command for inline plotting 🎩✨
%matplotlib inline
import re
import pandas as pd

def raw_to_df(file, key):
    '''Converts eda_data text file into a Data Frame'''
    
    split_formats = {
        '12hr': '\d{1,2}/\d{1,2}/\d{2,4},\s\d{1,2}:\d{2}\s[APap][mM]\s-\s',
       
    }
    datetime_formats = {
        '12hr': '%d/%m/%Y, %I:%M %p - ',
        '24hr': '%d/%m/%Y, %H:%M - ',
        'custom': ''
    }
    
    with open(file, 'r', encoding='utf-8') as raw_data:
        raw_string = ' '.join(raw_data.read().split('\n'))
        user_msg = re.split(split_formats[key], raw_string)[1:]
        date_time = re.findall(split_formats[key], raw_string)
        
        df = pd.DataFrame({'date_time': date_time, 'user_msg': user_msg})
        
    df['date_time'] = pd.to_datetime(df['date_time'], format=datetime_formats[key])
    
    usernames = []
    msgs = []
    for msg in df['user_msg']:
        split_msg = re.split('([\w\W]+?):\s', msg)
        if len(split_msg) > 1:
            usernames.append(split_msg[1])
            msgs.append(split_msg[2])
        else:
            usernames.append("group_notification")
            msgs.append(split_msg[0])

    df['user'] = usernames
    df['message'] = msgs

    df.drop('user_msg', axis=1, inplace=True)
    
    return df

df = raw_to_df('edited_chats.txt', '12hr')
df.info()

df.head(10)
df.sample(10)
empty_messages_count = df[df['message'] == ""].shape[0]
print(empty_messages_count)
df['day'] = df['date_time'].dt.strftime('%a')
df['month'] = df['date_time'].dt.strftime('%b')
df['year'] = df['date_time'].dt.year
df['date'] = df['date_time'].dt.date
df
df1 = df.copy()
df1['message_count'] = 1

if 'year' in df1.columns:
    df1.drop(columns='year', inplace=True)

df1 = df1.groupby('date')['message_count'].sum().reset_index()
print(df1)
import seaborn as sns
import matplotlib.pyplot as plt


sns.set_style("darkgrid")


plt.rcParams['font.size'] = 20
plt.rcParams['figure.figsize'] = (27, 6)


plt.plot(df1['date'], df1['message_count'])
plt.title('Messages sent per day over a time period')


plt.savefig('msg_plots.svg', format='svg')
plt.show()
top10days = df1.sort_values(by="message_count", ascending=False).head(10)
top10days.reset_index(drop=True, inplace=True)
print(top10days)
 import seaborn as sns
import matplotlib.pyplot as plt


sns.set_style("darkgrid")


plt.rcParams['font.size'] = 10
plt.rcParams['figure.figsize'] = (12, 8)


sns.barplot(x='date', y='message_count', data=top10days, palette="hls")


plt.savefig('top10_days.svg', format='svg')
plt.show()
total_users = len(df['user'].unique())
total_ghosts = 237 - total_users + 1  # Assuming 237 is the total number of group members including one admin

print(f"Total number of people who have sent at least one message in the group: {total_users - 1}")
print(f"Number of people who haven't sent even a single message in the group: {total_ghosts}")

df2 = df.copy()


df2 = df2[df2['user'] != "group_notification"]


top10df = df2.groupby("user")["message"].count().sort_values(ascending=False)


top10df = top10df.head(10).reset_index()


print(top10df)

top10df['initials'] = ''
for i in range(10):
    initials = top10df['user'][i].split()[0][0] + top10df['user'][i].split()[1][0]
    top10df.at[i, 'initials'] = initials


print(top10df)
import matplotlib.pyplot as plt


plt.rcParams['font.size'] = 14
plt.rcParams['figure.figsize'] = (9, 5)
plt.rcParams['figure.facecolor'] = '#00000000'
import seaborn as sns
import matplotlib.pyplot as plt

sns.set_style("whitegrid")


plt.figure(figsize=(12, 6))


plt.plot(top10df['initials'], top10df['message'], 'o--c')


plt.xlabel('Users')
plt.ylabel('Total number of messages')
plt.title("Number of messages sent by group members")
plt.legend(['Messages'])


plt.savefig('msg_plots.svg', format='svg')
plt.show()

sns.set_style("whitegrid")


plt.figure(figsize=(12, 6))


plt.bar(top10df['initials'], top10df['message'], color='lightblue', label='Messages')


plt.plot(top10df['initials'], top10df['message'], 'o--c', label='Messages Trend')


plt.xlabel('Users')
plt.ylabel('Total number of messages')
plt.title("Number of messages sent by group members")
plt.legend()


plt.savefig('msg_bar_line_plots.svg', format='svg')
plt.show()
import seaborn as sns
import matplotlib.pyplot as plt

sns.set_style("darkgrid")


plt.rcParams['font.size'] = 10
plt.rcParams['figure.figsize'] = (12, 8)


sns.barplot(x='user', y='message', data=top10df, palette="hls")


plt.savefig('top10_days.svg', format='svg')
plt.show()
import seaborn as sns
import matplotlib.pyplot as plt

# Beautifying default styles using Seaborn
sns.set_style("darkgrid")


plt.rcParams['font.size'] = 10
plt.rcParams['figure.figsize'] = (12, 8)


sns.barplot(x='initials', y='message', data=top10df, palette="hls")


plt.savefig('top10_days.svg', format='svg')
plt.show()
# Calculate the message length for each message
df2['message_length'] = df2['message'].apply(len)


avg_msg_lengths = df2.groupby('user')['message_length'].mean().reset_index()
avg_msg_lengths.rename(columns={'message_length': 'avg_message_length'}, inplace=True)


top10df = top10df.merge(avg_msg_lengths, on='user')


top10df_msg = top10df.sort_values(by='avg_message_length', ascending=False)


print(top10df_msg)
import seaborn as sns

def get_colors_of_certain_order(order_list):
    """
    Generates a list of colors based on the order of unique items in order_list.
    
    Args:
    - order_list (list): A list of unique items
    
    Returns:
    - colors (list): A list of colors corresponding to the order of items in order_list
    """
    color_palette = sns.color_palette()
    num_colors = len(order_list)
    return [color_palette[i % len(color_palette)] for i in range(num_colors)]
import seaborn as sns
import matplotlib.pyplot as plt


sns.set_style("darkgrid")


fig, axes = plt.subplots(1, 2, figsize=(16, 6))


sns.barplot(x=top10df['initials'], y=top10df['message'], ax=axes[0], palette=get_colors_of_certain_order(top10df['initials']))

axes[0].set_title('Total Messages Sent')
axes[0].set_xlabel('User')
axes[0].set_ylabel('Number of Messages Sent')


sns.barplot(x=top10df_msg['initials'], y=top10df_msg['avg_message_length'], ax=axes[1], palette=get_colors_of_certain_order(top10df_msg['initials']))

axes[1].set_title('Average Message Lengths')
axes[1].set_xlabel('User')
axes[1].set_ylabel('Average Message Length')


plt.tight_layout()

plt.savefig('top10_msg_plots_diff.svg', format='svg')
plt.show()

top10media = df[df.message == '<Media omitted> '].groupby('user').count().sort_values(by="message", ascending = False).head(10)


top10media.drop(columns=['date_time', 'day', 'month', 'year', 'date'], inplace=True)


top10media.rename(columns={"message": "media_sent"}, inplace=True)


top10media.reset_index(inplace=True)

top10media['initials'] = ''
for i in range(10):
    top10media.initials[i] = top10media.user[i].split()[0][0] + top10media.user[i].split()[1][0]
top10media.initials[9] = "VR"#It’s really interesting to see plots like this side by side, because here comes the twist:
#Ironically, TK, the person who sent the most amount of texts (2000+), has least messages' length on average. This means this person sends broken and many WhatsApp messages in one go.
#We can see that, I send less number of messages while having a relatively longer message length, followed by KS.
##Pre-processing
##We can use this to filter out and see who sends the most media.


top10media = df[df.message == '<Media omitted> '].groupby('user').count().sort_values(by="message", ascending = False).head(10)


top10media.drop(columns=['date_time', 'day', 'month', 'year', 'date'], inplace=True)


top10media.rename(columns={"message": "media_sent"}, inplace=True)


top10media.reset_index(inplace=True)

top10media['initials'] = ''
for i in range(10):
    top10media.initials[i] = top10media.user[i].split()[0][0] + top10media.user[i].split()[1][0]

plt.figure(figsize=(15, 6))


sns.set_style("darkgrid")

sns.barplot(x=top10media['initials'], y=top10media['media_sent'], palette="CMRmap")

plt.title('Most Sent Media')
plt.xlabel('User')
plt.ylabel('Total Media Sent')


plt.savefig('top10media.svg', format='svg')
print(top10media)

plt.figure(figsize=(15, 6))


sns.set_style("darkgrid")


sns.barplot(x=top10media['user'], y=top10media['media_sent'], palette="CMRmap")

plt.title('Most Sent Media')
plt.xlabel('User')
plt.ylabel('Total Media Sent')


plt.xticks(rotation=45, ha='right')


plt.savefig('top10media.svg', format='svg')


print(top10media[['user', 'media_sent']])
 
emoji_ctr = Counter()


emojis_list = list(emoji.UNICODE_EMOJI.keys()) 


pattern = re.compile('|'.join(re.escape(p) for p in emojis_list))


for idx, row in df.iterrows():
    # Find emojis in the message using the compiled regular expression pattern
    emojis_found = pattern.findall(row["message"])
    # Increment the count of each emoji found
    for emoji_found in emojis_found:
        emoji_ctr[emoji_found] += 1 
pip install emoji_data_python
from collections import Counter
import emoji_data_python
import re


emoji_ctr = Counter()


emojis_list = [emoji.char for emoji in emoji_data_python.emoji_data]


pattern = re.compile('|'.join(re.escape(p) for p in emojis_list))


for idx, row in df.iterrows():
    # Find emojis in the message using the compiled regular expression pattern
    emojis_found = pattern.findall(row["message"])
    # Increment the count of each emoji found
    for emoji_found in emojis_found:
        emoji_ctr[emoji_found] += 1
import pandas as pd
import emoji


top10emojis = pd.DataFrame(index=range(10), columns=["emoji", "emoji_count", "emoji_description"])


for i, (emoji_char, count) in enumerate(emoji_ctr.most_common(10)):
    # Demojize the emoji to get a plain text representation
    description = emoji.demojize(emoji_char)[1:-1]  # Remove the colons ':' at the beginning and end
    
    
    top10emojis.at[i, 'emoji'] = emoji_char
    top10emojis.at[i, 'emoji_count'] = count
    top10emojis.at[i, 'emoji_description'] = description


top10emojis
import matplotlib.pyplot as plt
import seaborn as sns


plt.figure(figsize=(15, 6))
import matplotlib
matplotlib.rcParams['font.size'] = 15


sns.set_style("darkgrid")


sns.barplot(x='emoji_count', y='emoji_description', data=top10emojis, palette="Paired_r")


plt.title('Most Used Emoji')
plt.xlabel('Emoji Count')
plt.ylabel('Emoji Used')


plt.savefig('top10emoji.svg', format='svg')
plt.show()
import matplotlib.pyplot as plt
import seaborn as sns
import matplotlib.ticker as ticker


plt.figure(figsize=(15, 6))
import matplotlib
matplotlib.rcParams['font.size'] = 15


sns.set_style("darkgrid")


ax = sns.barplot(x='emoji_count', y='emoji_description', data=top10emojis, palette="Paired_r")


for tick in ax.get_yticklabels():
    tick.set_fontweight('bold')


ax.xaxis.set_major_locator(ticker.MultipleLocator(300))


plt.title('Most Used Emoji')
plt.xlabel('Emoji Count')
plt.ylabel('Emoji Used')


plt.savefig('top10emoji.svg', format='svg')
plt.show()
import plotly.express as px
fig = px.treemap(top10emojis, path= ['emoji'],
    values = top10emojis['emoji_count'].tolist(),
)
fig.show()

df3 = df.copy()


df3['message_count'] = 1  


df3['hour'] = df3['date_time'].dt.hour


grouped_by_time = df3.groupby('hour')['message_count'].sum().reset_index()
import seaborn as sns
import matplotlib.pyplot as plt


sns.barplot(x='hour', y='message_count', data=grouped_by_time)


plt.title('Most Active Hours')


plt.savefig('most_active_hours.svg', format='svg')
plt.show()
import seaborn as sns
import matplotlib.pyplot as plt


ax = sns.barplot(x='hour', y='message_count', data=grouped_by_time)


for p in ax.patches:
    ax.annotate(f'{int(p.get_height())}', 
                (p.get_x() + p.get_width() / 2., p.get_height()), 
                ha='center', va='center', fontsize=10, color='black', xytext=(0, 5), 
                textcoords='offset points')


plt.title('Most Active Hours')


plt.savefig('most_active_hours.svg', format='svg')
plt.show()
import pandas as pd


df3['day'] = df3['date_time'].dt.day_name()
df3['month_name'] = df3['date_time'].dt.month_name()


days = ['Monday', 'Tuesday', 'Wednesday', 'Thursday', 'Friday', 'Saturday', 'Sunday']

grouped_by_day = df3.groupby('day')['message_count'].sum().reindex(days).reset_index()


months = ['January', 'February', 'March', 'April', 'May', 'June', 'July', 'August']

grouped_by_month = df3.groupby('month_name')['message_count'].sum().reindex(months).reset_index()
import matplotlib.pyplot as plt
import seaborn as sns


fig, axs = plt.subplots(1, 2, figsize=(24, 6))


import matplotlib
matplotlib.rcParams['font.size'] = 20


sns.set_style("darkgrid")




sns.barplot(x='day', y='message_count', data=grouped_by_day, order=days, ax=axs[0], palette='Pastel2_r')
axs[0].set_title('Total messages sent grouped by day')


sns.barplot(x='message_count', y='month_name', data=grouped_by_month, order=months, ax=axs[1], palette='Pastel1_d')
axs[1].set_title('Total messages sent grouped by month')


plt.savefig('days_and_month.svg', format='svg')
plt.show()
 import matplotlib.pyplot as plt
import seaborn as sns


fig, axs = plt.subplots(1, 2, figsize=(24, 6))


import matplotlib
matplotlib.rcParams['font.size'] = 20


sns.set_style("darkgrid")




sns.barplot(x='day', y='message_count', data=grouped_by_day, order=days, ax=axs[0], palette='Pastel2_r')
axs[0].set_title('Total messages sent grouped by day')


axs[0].set_xticklabels(axs[0].get_xticklabels(), rotation=30, ha='right')  # Adjust the rotation angle as needed


sns.barplot(x='message_count', y='month_name', data=grouped_by_month, order=months, ax=axs[1], palette='Pastel1_d')
axs[1].set_title('Total messages sent grouped by month')


plt.savefig('days_and_month.svg', format='svg')
plt.show()
import pandas as pd
import matplotlib.pyplot as plt
import numpy as np


df3['day'] = df3['date_time'].dt.day_name()
df3['month_name'] = df3['date_time'].dt.month_name()


days = ['Monday', 'Tuesday', 'Wednesday', 'Thursday', 'Friday', 'Saturday', 'Sunday']

grouped_by_day = df3.groupby('day')['message_count'].sum().reindex(days).reset_index()


months =['January', 'February', 'March', 'April', 'May', 'June', 'July', 'August']

grouped_by_month = df3.groupby('month_name')['message_count'].sum().reindex(months).reset_index()


fig, axs = plt.subplots(1, 2, figsize=(16, 8), subplot_kw={'projection': 'polar'})


angles_day = np.linspace(0, 2 * np.pi, len(days), endpoint=False).tolist()
values_day = grouped_by_day['message_count'].tolist()
max_value_day = max(values_day)
values_day_normalized = [v / max_value_day for v in values_day]  # Normalize values
axs[0].plot(angles_day, values_day_normalized, linestyle='-', color='saddlebrown', linewidth=2)
axs[0].fill(angles_day, values_day_normalized, alpha=0.2, color='burlywood')  # Brown and antiquewhite colors

axs[0].set_xticks(angles_day)
axs[0].set_xticklabels(days, fontweight='bold', color='black')  # Bold and black days
axs[0].tick_params(axis='x', colors='black')  # Set the color of the radial ticks
axs[0].set_title('Total messages sent grouped by day', fontweight='bold', backgroundcolor='wheat', pad=20)  # Added pad for more space after title


angles_month = np.linspace(0, 2 * np.pi, len(months), endpoint=False).tolist()
values_month = grouped_by_month['message_count'].tolist()
max_value_month = max(values_month)
values_month_normalized = [v / max_value_month for v in values_month]  # Normalize values
axs[1].plot(angles_month, values_month_normalized, linestyle='-', color='saddlebrown', linewidth=2)
axs[1].fill(angles_month, values_month_normalized, alpha=0.2, color='burlywood')  # Brown and antiquewhite colors

axs[1].set_xticks(angles_month)
axs[1].set_xticklabels(months, fontweight='bold', color='black')  # Bold and black months
axs[1].tick_params(axis='x', colors='black')  # Set the color of the radial ticks
axs[1].set_title('Total messages sent grouped by month', fontweight='bold', backgroundcolor='wheat', pad=20)  # Added pad for more space after title


plt.tight_layout()


plt.show()
from wordcloud import WordCloud, STOPWORDS


comment_words = ''


stopwords = set(STOPWORDS)
stopwords.update(['group', 'link', 'invite', 'joined', 'message', 'deleted', 'yeah', 'hai', 'yes', 'okay', 'ok', 'will', 'use', 'using', 'one', 'know', 'guy', 'group', 'media', 'omitted'])


for val in df3.message.values:
    
    val = str(val)
  
    tokens = val.split()
  
    tokens = [token.lower() for token in tokens]
    
    comment_words += " ".join(tokens) + " "


wordcloud = WordCloud(width=600, height=600, background_color='white', stopwords=stopwords, min_font_size=8).generate(comment_words)
wordcloud.to_image()
from collections import Counter
from wordcloud import WordCloud, STOPWORDS


stopwords = set(STOPWORDS)
stopwords.update(['group', 'link', 'invite', 'joined', 'message', 'deleted', 'yeah', 'hai', 'yes', 'okay', 'ok', 'will', 'use', 'using', 'one', 'know', 'guy', 'group', 'media', 'omitted'])


top_users_comment_words = ''


for user in top10df['user']:
    
    messages_for_user = df3[df3['user'] == user]['message']
    
    for val in messages_for_user.values:
      
        val = str(val)
       
        tokens = val.split()
       
        tokens = [token.lower() for token in tokens]
        
        top_users_comment_words += " ".join(tokens) + " "


wordcloud_top_users = WordCloud(width=600, height=600, background_color='white', stopwords=stopwords, min_font_size=8).generate(top_users_comment_words)


import matplotlib.pyplot as plt
plt.figure(figsize=(8, 8), facecolor=None)
plt.imshow(wordcloud_top_users)
plt.axis("off")
plt.tight_layout(pad=0)
plt.show()
 import seaborn as sns
import matplotlib.pyplot as plt


grouped_by_day_and_month = df3.groupby(['day', 'month_name']).size().reset_index(name='message_count')


pivot_table = grouped_by_day_and_month.pivot(index='month_name', columns='day', values='message_count')


pivot_table = pivot_table.reindex(index=months)


days_order = ['Monday', 'Tuesday', 'Wednesday', 'Thursday', 'Friday', 'Saturday', 'Sunday']
pivot_table = pivot_table[days_order]


pivot_table = pivot_table.fillna(0)


plt.figure(figsize=(12, 8))
sns.heatmap(pivot_table, cmap='viridis_r', annot=True, fmt='g', linewidths=.5)  # Reversed colormap
plt.title('Messages Sent by Month and Day')
plt.xlabel('Day of the Week')
plt.ylabel('Month')
plt.xticks(rotation=45)
plt.tight_layout()


plt.savefig('month_day_heatmap_reversed.svg', format='svg')
plt.show()
